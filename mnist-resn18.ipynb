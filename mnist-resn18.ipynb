{
 "cells": [
  {
   "cell_type": "code",
   "execution_count": 1,
   "metadata": {},
   "outputs": [],
   "source": [
    "import torch\n",
    "import torch.nn as nn\n",
    "import torch.optim as optim\n",
    "from torchvision import datasets, transforms, models\n",
    "\n"
   ]
  },
  {
   "cell_type": "code",
   "execution_count": 11,
   "metadata": {},
   "outputs": [
    {
     "name": "stderr",
     "output_type": "stream",
     "text": [
      "/usr/local/lib64/python3.9/site-packages/torchvision/models/_utils.py:208: UserWarning: The parameter 'pretrained' is deprecated since 0.13 and may be removed in the future, please use 'weights' instead.\n",
      "  warnings.warn(\n",
      "/usr/local/lib64/python3.9/site-packages/torchvision/models/_utils.py:223: UserWarning: Arguments other than a weight enum or `None` for 'weights' are deprecated since 0.13 and may be removed in the future. The current behavior is equivalent to passing `weights=VGG19_Weights.IMAGENET1K_V1`. You can also use `weights=VGG19_Weights.DEFAULT` to get the most up-to-date weights.\n",
      "  warnings.warn(msg)\n",
      "Downloading: \"https://download.pytorch.org/models/vgg19-dcbb9e9d.pth\" to /home/qxu/.cache/torch/hub/checkpoints/vgg19-dcbb9e9d.pth\n",
      "100%|██████████| 548M/548M [14:48<00:00, 647kB/s]  \n"
     ]
    },
    {
     "ename": "AttributeError",
     "evalue": "'VGG' object has no attribute 'fc'",
     "output_type": "error",
     "traceback": [
      "\u001b[0;31m---------------------------------------------------------------------------\u001b[0m",
      "\u001b[0;31mAttributeError\u001b[0m                            Traceback (most recent call last)",
      "\u001b[1;32m/home/qxu/pycode/ai/ministr-test/mnist-resn18.ipynb Cell 2\u001b[0m line \u001b[0;36m2\n\u001b[1;32m     <a href='vscode-notebook-cell:/home/qxu/pycode/ai/ministr-test/mnist-resn18.ipynb#W2sZmlsZQ%3D%3D?line=17'>18</a>\u001b[0m model\u001b[39m.\u001b[39mconv1 \u001b[39m=\u001b[39m nn\u001b[39m.\u001b[39mConv2d(\u001b[39m1\u001b[39m, \u001b[39m64\u001b[39m, kernel_size\u001b[39m=\u001b[39m\u001b[39m7\u001b[39m, stride\u001b[39m=\u001b[39m\u001b[39m2\u001b[39m, padding\u001b[39m=\u001b[39m\u001b[39m3\u001b[39m, bias\u001b[39m=\u001b[39m\u001b[39mFalse\u001b[39;00m)\n\u001b[1;32m     <a href='vscode-notebook-cell:/home/qxu/pycode/ai/ministr-test/mnist-resn18.ipynb#W2sZmlsZQ%3D%3D?line=18'>19</a>\u001b[0m \u001b[39m#优化以下配置，重新运行，可将准确率提升到>99%\u001b[39;00m\n\u001b[1;32m     <a href='vscode-notebook-cell:/home/qxu/pycode/ai/ministr-test/mnist-resn18.ipynb#W2sZmlsZQ%3D%3D?line=19'>20</a>\u001b[0m \u001b[39m# model.conv1 = nn.Conv2d(1, 64, kernel_size=3, stride=1, padding=1, bias=False)\u001b[39;00m\n\u001b[0;32m---> <a href='vscode-notebook-cell:/home/qxu/pycode/ai/ministr-test/mnist-resn18.ipynb#W2sZmlsZQ%3D%3D?line=21'>22</a>\u001b[0m model\u001b[39m.\u001b[39mfc \u001b[39m=\u001b[39m nn\u001b[39m.\u001b[39mLinear(model\u001b[39m.\u001b[39;49mfc\u001b[39m.\u001b[39min_features, \u001b[39m10\u001b[39m)\n\u001b[1;32m     <a href='vscode-notebook-cell:/home/qxu/pycode/ai/ministr-test/mnist-resn18.ipynb#W2sZmlsZQ%3D%3D?line=23'>24</a>\u001b[0m \u001b[39m# 使用 GPU (如果可用)\u001b[39;00m\n\u001b[1;32m     <a href='vscode-notebook-cell:/home/qxu/pycode/ai/ministr-test/mnist-resn18.ipynb#W2sZmlsZQ%3D%3D?line=24'>25</a>\u001b[0m device \u001b[39m=\u001b[39m torch\u001b[39m.\u001b[39mdevice(\u001b[39m'\u001b[39m\u001b[39mcuda\u001b[39m\u001b[39m'\u001b[39m \u001b[39mif\u001b[39;00m torch\u001b[39m.\u001b[39mcuda\u001b[39m.\u001b[39mis_available() \u001b[39melse\u001b[39;00m \u001b[39m'\u001b[39m\u001b[39mcpu\u001b[39m\u001b[39m'\u001b[39m)\n",
      "File \u001b[0;32m/usr/local/lib64/python3.9/site-packages/torch/nn/modules/module.py:1709\u001b[0m, in \u001b[0;36mModule.__getattr__\u001b[0;34m(self, name)\u001b[0m\n\u001b[1;32m   1707\u001b[0m     \u001b[39mif\u001b[39;00m name \u001b[39min\u001b[39;00m modules:\n\u001b[1;32m   1708\u001b[0m         \u001b[39mreturn\u001b[39;00m modules[name]\n\u001b[0;32m-> 1709\u001b[0m \u001b[39mraise\u001b[39;00m \u001b[39mAttributeError\u001b[39;00m(\u001b[39mf\u001b[39m\u001b[39m\"\u001b[39m\u001b[39m'\u001b[39m\u001b[39m{\u001b[39;00m\u001b[39mtype\u001b[39m(\u001b[39mself\u001b[39m)\u001b[39m.\u001b[39m\u001b[39m__name__\u001b[39m\u001b[39m}\u001b[39;00m\u001b[39m'\u001b[39m\u001b[39m object has no attribute \u001b[39m\u001b[39m'\u001b[39m\u001b[39m{\u001b[39;00mname\u001b[39m}\u001b[39;00m\u001b[39m'\u001b[39m\u001b[39m\"\u001b[39m)\n",
      "\u001b[0;31mAttributeError\u001b[0m: 'VGG' object has no attribute 'fc'"
     ]
    }
   ],
   "source": [
    "# 数据预处理和加载\n",
    "transform = transforms.Compose([\n",
    "    transforms.Resize((28, 28)),  # 调整大小以适应预训练模型\n",
    "    transforms.ToTensor(),\n",
    "    transforms.Normalize((0.5,), (0.5,))\n",
    "])\n",
    "\n",
    "train_dataset = datasets.MNIST(root='./data', train=True, download=True, transform=transform)\n",
    "test_dataset = datasets.MNIST(root='./data', train=False, download=True, transform=transform)\n",
    "\n",
    "train_loader = torch.utils.data.DataLoader(dataset=train_dataset, batch_size=64, shuffle=True)\n",
    "test_loader = torch.utils.data.DataLoader(dataset=test_dataset, batch_size=1000, shuffle=False)\n",
    "\n",
    "# 加载预训练的 ResNet18 模型\n",
    "model = models.resnet18(pretrained=True)\n",
    "\n",
    "# 修改模型以适应 MNIST 数据集（单通道输入和10类输出）\n",
    "model.conv1 = nn.Conv2d(1, 64, kernel_size=7, stride=2, padding=3, bias=False)\n",
    "#优化以下配置，重新运行，可将准确率提升到>99%\n",
    "# model.conv1 = nn.Conv2d(1, 64, kernel_size=3, stride=1, padding=1, bias=False)\n",
    "\n",
    "model.fc = nn.Linear(model.fc.in_features, 10)\n",
    "\n",
    "# 使用 GPU (如果可用)\n",
    "device = torch.device('cuda' if torch.cuda.is_available() else 'cpu')\n",
    "model = model.to(device)\n",
    "\n",
    "# 定义损失函数和优化器\n",
    "criterion = nn.CrossEntropyLoss()\n",
    "optimizer = optim.Adam(model.parameters(), lr=0.001)\n"
   ]
  },
  {
   "cell_type": "code",
   "execution_count": 9,
   "metadata": {},
   "outputs": [
    {
     "name": "stdout",
     "output_type": "stream",
     "text": [
      "Epoch [1/5], Step [0/938], Loss: 2.6261\n",
      "Epoch [1/5], Step [100/938], Loss: 0.2261\n",
      "Epoch [1/5], Step [200/938], Loss: 0.0788\n",
      "Epoch [1/5], Step [300/938], Loss: 0.0559\n",
      "Epoch [1/5], Step [400/938], Loss: 0.0274\n",
      "Epoch [1/5], Step [500/938], Loss: 0.0350\n",
      "Epoch [1/5], Step [600/938], Loss: 0.0514\n",
      "Epoch [1/5], Step [700/938], Loss: 0.1146\n",
      "Epoch [1/5], Step [800/938], Loss: 0.0557\n",
      "Epoch [1/5], Step [900/938], Loss: 0.0148\n",
      "Epoch [2/5], Step [0/938], Loss: 0.0104\n",
      "Epoch [2/5], Step [100/938], Loss: 0.1198\n",
      "Epoch [2/5], Step [200/938], Loss: 0.1562\n",
      "Epoch [2/5], Step [300/938], Loss: 0.0628\n",
      "Epoch [2/5], Step [400/938], Loss: 0.1714\n",
      "Epoch [2/5], Step [500/938], Loss: 0.0050\n",
      "Epoch [2/5], Step [600/938], Loss: 0.0158\n",
      "Epoch [2/5], Step [700/938], Loss: 0.2159\n",
      "Epoch [2/5], Step [800/938], Loss: 0.0060\n",
      "Epoch [2/5], Step [900/938], Loss: 0.0096\n",
      "Epoch [3/5], Step [0/938], Loss: 0.0031\n",
      "Epoch [3/5], Step [100/938], Loss: 0.0059\n",
      "Epoch [3/5], Step [200/938], Loss: 0.0196\n",
      "Epoch [3/5], Step [300/938], Loss: 0.0927\n",
      "Epoch [3/5], Step [400/938], Loss: 0.0563\n",
      "Epoch [3/5], Step [500/938], Loss: 0.0173\n",
      "Epoch [3/5], Step [600/938], Loss: 0.1148\n",
      "Epoch [3/5], Step [700/938], Loss: 0.0503\n",
      "Epoch [3/5], Step [800/938], Loss: 0.0371\n",
      "Epoch [3/5], Step [900/938], Loss: 0.0028\n",
      "Epoch [4/5], Step [0/938], Loss: 0.0435\n",
      "Epoch [4/5], Step [100/938], Loss: 0.0052\n",
      "Epoch [4/5], Step [200/938], Loss: 0.0053\n",
      "Epoch [4/5], Step [300/938], Loss: 0.0229\n",
      "Epoch [4/5], Step [400/938], Loss: 0.0258\n",
      "Epoch [4/5], Step [500/938], Loss: 0.0074\n",
      "Epoch [4/5], Step [600/938], Loss: 0.0014\n",
      "Epoch [4/5], Step [700/938], Loss: 0.0414\n",
      "Epoch [4/5], Step [800/938], Loss: 0.0602\n",
      "Epoch [4/5], Step [900/938], Loss: 0.0067\n",
      "Epoch [5/5], Step [0/938], Loss: 0.0427\n",
      "Epoch [5/5], Step [100/938], Loss: 0.0018\n",
      "Epoch [5/5], Step [200/938], Loss: 0.0098\n",
      "Epoch [5/5], Step [300/938], Loss: 0.0019\n",
      "Epoch [5/5], Step [400/938], Loss: 0.1859\n",
      "Epoch [5/5], Step [500/938], Loss: 0.0364\n",
      "Epoch [5/5], Step [600/938], Loss: 0.0460\n",
      "Epoch [5/5], Step [700/938], Loss: 0.0019\n",
      "Epoch [5/5], Step [800/938], Loss: 0.0040\n",
      "Epoch [5/5], Step [900/938], Loss: 0.1250\n"
     ]
    }
   ],
   "source": [
    "\n",
    "# 训练模型\n",
    "num_epochs = 5\n",
    "\n",
    "for epoch in range(num_epochs):\n",
    "    model.train()\n",
    "    for batch_idx, (data, target) in enumerate(train_loader):\n",
    "        data, target = data.to(device), target.to(device)\n",
    "        \n",
    "        optimizer.zero_grad()\n",
    "        output = model(data)\n",
    "        loss = criterion(output, target)\n",
    "        loss.backward()\n",
    "        optimizer.step()\n",
    "        \n",
    "        if batch_idx % 100 == 0:\n",
    "            print(f'Epoch [{epoch+1}/{num_epochs}], Step [{batch_idx}/{len(train_loader)}], Loss: {loss.item():.4f}')\n",
    "\n"
   ]
  },
  {
   "cell_type": "code",
   "execution_count": 10,
   "metadata": {},
   "outputs": [
    {
     "name": "stdout",
     "output_type": "stream",
     "text": [
      "Accuracy of the model on the test images: 99.16 %\n"
     ]
    }
   ],
   "source": [
    "# 测试模型\n",
    "model.eval()\n",
    "correct = 0\n",
    "total = 0\n",
    "\n",
    "with torch.no_grad():\n",
    "    for data, target in test_loader:\n",
    "        data, target = data.to(device), target.to(device)\n",
    "        outputs = model(data)\n",
    "        _, predicted = torch.max(outputs.data, 1)\n",
    "        total += target.size(0)\n",
    "        correct += (predicted == target).sum().item()\n",
    "\n",
    "print(f'Accuracy of the model on the test images: {100 * correct / total} %')\n"
   ]
  },
  {
   "cell_type": "code",
   "execution_count": null,
   "metadata": {},
   "outputs": [],
   "source": []
  },
  {
   "cell_type": "code",
   "execution_count": null,
   "metadata": {},
   "outputs": [],
   "source": []
  },
  {
   "cell_type": "code",
   "execution_count": null,
   "metadata": {},
   "outputs": [],
   "source": []
  }
 ],
 "metadata": {
  "kernelspec": {
   "display_name": "Python 3",
   "language": "python",
   "name": "python3"
  },
  "language_info": {
   "codemirror_mode": {
    "name": "ipython",
    "version": 3
   },
   "file_extension": ".py",
   "mimetype": "text/x-python",
   "name": "python",
   "nbconvert_exporter": "python",
   "pygments_lexer": "ipython3",
   "version": "3.9.18"
  }
 },
 "nbformat": 4,
 "nbformat_minor": 2
}
