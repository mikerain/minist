{
 "cells": [
  {
   "cell_type": "code",
   "execution_count": 1,
   "metadata": {},
   "outputs": [],
   "source": [
    "import torch\n",
    "import torch.nn as nn\n",
    "import torch.optim as optim\n",
    "from torchvision import datasets, transforms, models\n",
    "\n"
   ]
  },
  {
   "cell_type": "code",
   "execution_count": 5,
   "metadata": {},
   "outputs": [
    {
     "name": "stderr",
     "output_type": "stream",
     "text": [
      "/usr/local/lib64/python3.12/site-packages/torchvision/models/_utils.py:208: UserWarning: The parameter 'pretrained' is deprecated since 0.13 and may be removed in the future, please use 'weights' instead.\n",
      "  warnings.warn(\n",
      "/usr/local/lib64/python3.12/site-packages/torchvision/models/_utils.py:223: UserWarning: Arguments other than a weight enum or `None` for 'weights' are deprecated since 0.13 and may be removed in the future. The current behavior is equivalent to passing `weights=ResNet18_Weights.IMAGENET1K_V1`. You can also use `weights=ResNet18_Weights.DEFAULT` to get the most up-to-date weights.\n",
      "  warnings.warn(msg)\n"
     ]
    },
    {
     "name": "stdout",
     "output_type": "stream",
     "text": [
      "512\n"
     ]
    }
   ],
   "source": [
    "# 数据预处理和加载\n",
    "transform = transforms.Compose([\n",
    "    transforms.Resize((28, 28)),  # 调整大小以适应预训练模型\n",
    "    transforms.ToTensor(),\n",
    "    transforms.Normalize((0.5,), (0.5,))\n",
    "])\n",
    "\n",
    "train_dataset = datasets.MNIST(root='./data', train=True, download=True, transform=transform)\n",
    "test_dataset = datasets.MNIST(root='./data', train=False, download=True, transform=transform)\n",
    "\n",
    "train_loader = torch.utils.data.DataLoader(dataset=train_dataset, batch_size=64, shuffle=True)\n",
    "test_loader = torch.utils.data.DataLoader(dataset=test_dataset, batch_size=1000, shuffle=False)\n",
    "\n",
    "# 加载预训练的 ResNet18 模型\n",
    "model = models.resnet18(pretrained=True)\n",
    "\n",
    "# 修改模型以适应 MNIST 数据集（单通道输入和10类输出）\n",
    "model.conv1 = nn.Conv2d(1, 64, kernel_size=7, stride=2, padding=3, bias=False)\n",
    "#优化以下配置，重新运行，可将准确率提升到>99%\n",
    "# model.conv1 = nn.Conv2d(1, 64, kernel_size=3, stride=1, padding=1, bias=False)\n",
    "# print(model.fc.in_features)  512\n",
    "model.fc = nn.Linear(model.fc.in_features, 10)\n",
    "\n",
    "# 使用 GPU (如果可用)\n",
    "device = torch.device('cuda' if torch.cuda.is_available() else 'cpu')\n",
    "model = model.to(device)\n",
    "\n",
    "# 定义损失函数和优化器\n",
    "criterion = nn.CrossEntropyLoss()\n",
    "optimizer = optim.Adam(model.parameters(), lr=0.001)\n"
   ]
  },
  {
   "cell_type": "code",
   "execution_count": 3,
   "metadata": {},
   "outputs": [
    {
     "name": "stdout",
     "output_type": "stream",
     "text": [
      "Epoch [1/5], Step [0/938], Loss: 2.6610\n",
      "Epoch [1/5], Step [100/938], Loss: 0.1249\n",
      "Epoch [1/5], Step [200/938], Loss: 0.1127\n",
      "Epoch [1/5], Step [300/938], Loss: 0.0784\n",
      "Epoch [1/5], Step [400/938], Loss: 0.2221\n",
      "Epoch [1/5], Step [500/938], Loss: 0.1883\n",
      "Epoch [1/5], Step [600/938], Loss: 0.0313\n",
      "Epoch [1/5], Step [700/938], Loss: 0.0274\n",
      "Epoch [1/5], Step [800/938], Loss: 0.0363\n",
      "Epoch [1/5], Step [900/938], Loss: 0.1166\n",
      "Epoch [2/5], Step [0/938], Loss: 0.0336\n",
      "Epoch [2/5], Step [100/938], Loss: 0.0832\n",
      "Epoch [2/5], Step [200/938], Loss: 0.0506\n",
      "Epoch [2/5], Step [300/938], Loss: 0.0260\n",
      "Epoch [2/5], Step [400/938], Loss: 0.0401\n",
      "Epoch [2/5], Step [500/938], Loss: 0.0596\n",
      "Epoch [2/5], Step [600/938], Loss: 0.1334\n",
      "Epoch [2/5], Step [700/938], Loss: 0.1417\n",
      "Epoch [2/5], Step [800/938], Loss: 0.0851\n",
      "Epoch [2/5], Step [900/938], Loss: 0.0648\n",
      "Epoch [3/5], Step [0/938], Loss: 0.0295\n",
      "Epoch [3/5], Step [100/938], Loss: 0.1579\n",
      "Epoch [3/5], Step [200/938], Loss: 0.0478\n",
      "Epoch [3/5], Step [300/938], Loss: 0.0817\n",
      "Epoch [3/5], Step [400/938], Loss: 0.0371\n",
      "Epoch [3/5], Step [500/938], Loss: 0.0034\n",
      "Epoch [3/5], Step [600/938], Loss: 0.0514\n",
      "Epoch [3/5], Step [700/938], Loss: 0.0980\n",
      "Epoch [3/5], Step [800/938], Loss: 0.1037\n",
      "Epoch [3/5], Step [900/938], Loss: 0.0117\n",
      "Epoch [4/5], Step [0/938], Loss: 0.0818\n",
      "Epoch [4/5], Step [100/938], Loss: 0.0009\n",
      "Epoch [4/5], Step [200/938], Loss: 0.0329\n",
      "Epoch [4/5], Step [300/938], Loss: 0.0259\n",
      "Epoch [4/5], Step [400/938], Loss: 0.0081\n",
      "Epoch [4/5], Step [500/938], Loss: 0.0824\n",
      "Epoch [4/5], Step [600/938], Loss: 0.0102\n",
      "Epoch [4/5], Step [700/938], Loss: 0.0157\n",
      "Epoch [4/5], Step [800/938], Loss: 0.0253\n",
      "Epoch [4/5], Step [900/938], Loss: 0.0090\n",
      "Epoch [5/5], Step [0/938], Loss: 0.0096\n",
      "Epoch [5/5], Step [100/938], Loss: 0.0023\n",
      "Epoch [5/5], Step [200/938], Loss: 0.0220\n",
      "Epoch [5/5], Step [300/938], Loss: 0.0032\n",
      "Epoch [5/5], Step [400/938], Loss: 0.0102\n",
      "Epoch [5/5], Step [500/938], Loss: 0.0141\n",
      "Epoch [5/5], Step [600/938], Loss: 0.0348\n",
      "Epoch [5/5], Step [700/938], Loss: 0.1194\n",
      "Epoch [5/5], Step [800/938], Loss: 0.0093\n",
      "Epoch [5/5], Step [900/938], Loss: 0.0148\n"
     ]
    }
   ],
   "source": [
    "\n",
    "# 训练模型\n",
    "num_epochs = 5\n",
    "\n",
    "for epoch in range(num_epochs):\n",
    "    model.train()\n",
    "    for batch_idx, (data, target) in enumerate(train_loader):\n",
    "        data, target = data.to(device), target.to(device)\n",
    "        \n",
    "        optimizer.zero_grad()\n",
    "        output = model(data)\n",
    "        loss = criterion(output, target)\n",
    "        loss.backward()\n",
    "        optimizer.step()\n",
    "        \n",
    "        if batch_idx % 100 == 0:\n",
    "            print(f'Epoch [{epoch+1}/{num_epochs}], Step [{batch_idx}/{len(train_loader)}], Loss: {loss.item():.4f}')\n",
    "\n",
    "print(\"training finished\")\n"
   ]
  },
  {
   "cell_type": "code",
   "execution_count": 4,
   "metadata": {},
   "outputs": [
    {
     "name": "stdout",
     "output_type": "stream",
     "text": [
      "Accuracy of the model on the test images: 98.93 %\n"
     ]
    }
   ],
   "source": [
    "# 测试模型\n",
    "model.eval()\n",
    "correct = 0\n",
    "total = 0\n",
    "\n",
    "with torch.no_grad():\n",
    "    for data, target in test_loader:\n",
    "        data, target = data.to(device), target.to(device)\n",
    "        outputs = model(data)\n",
    "        _, predicted = torch.max(outputs.data, 1)\n",
    "        total += target.size(0)\n",
    "        correct += (predicted == target).sum().item()\n",
    "\n",
    "print(f'Accuracy of the model on the test images: {100 * correct / total} %')\n"
   ]
  }
 ],
 "metadata": {
  "kernelspec": {
   "display_name": "Python 3",
   "language": "python",
   "name": "python3"
  },
  "language_info": {
   "codemirror_mode": {
    "name": "ipython",
    "version": 3
   },
   "file_extension": ".py",
   "mimetype": "text/x-python",
   "name": "python",
   "nbconvert_exporter": "python",
   "pygments_lexer": "ipython3",
   "version": "3.12.3"
  }
 },
 "nbformat": 4,
 "nbformat_minor": 2
}
