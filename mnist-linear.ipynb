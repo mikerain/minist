{
 "cells": [
  {
   "cell_type": "code",
   "execution_count": 2,
   "id": "328f5058-1d5f-4f68-977a-323a315ce911",
   "metadata": {},
   "outputs": [],
   "source": [
    "import torch\n",
    "import torch.nn as nn\n",
    "import torch.optim as optim\n",
    "from torchvision import datasets, transforms\n",
    "import matplotlib.pyplot as plt\n",
    "from torch.utils.tensorboard import SummaryWriter\n",
    "\n",
    "# 1. 导入必要的库"
   ]
  },
  {
   "cell_type": "code",
   "execution_count": 9,
   "id": "a3a461a4-94fb-4007-ac88-967281ef4b89",
   "metadata": {},
   "outputs": [],
   "source": [
    "# 2. 定义数据加载器\n",
    "batch_size = 64\n",
    "\n",
    "# Normalize 归一化处理，0.1307 数据集的全局平均像素值，0.3081 是 MNIST 数据集的全局像素值标准差;这个参数 也可以不用\n",
    "#不用归一化参数 (training time:37s, Accuracy: 97.8%)，使用归一化参数 （training time:60s, Accuracy: 97.68％）\n",
    "transform = transforms.Compose([\n",
    "    transforms.ToTensor(),\n",
    "    transforms.Normalize((0.1307,), (0.3081,)) \n",
    "])\n",
    "\n",
    "train_dataset = datasets.MNIST('./data', train=True, download=True, transform=transform)\n",
    "test_dataset = datasets.MNIST('./data', train=False, transform=transform)\n",
    "\n",
    "train_loader = torch.utils.data.DataLoader(train_dataset, batch_size=batch_size, shuffle=True)\n",
    "test_loader = torch.utils.data.DataLoader(test_dataset, batch_size=batch_size, shuffle=False)\n",
    "\n"
   ]
  },
  {
   "cell_type": "code",
   "execution_count": 10,
   "id": "6a8d4360-fbcf-43fc-a367-42417970553f",
   "metadata": {},
   "outputs": [
    {
     "name": "stdout",
     "output_type": "stream",
     "text": [
      "Epoch [1/10], Loss: 0.3293\n",
      "Epoch [2/10], Loss: 0.1147\n",
      "Epoch [3/10], Loss: 0.0763\n",
      "Epoch [4/10], Loss: 0.0591\n",
      "Epoch [5/10], Loss: 0.0447\n",
      "Epoch [6/10], Loss: 0.0350\n",
      "Epoch [7/10], Loss: 0.0280\n",
      "Epoch [8/10], Loss: 0.0217\n",
      "Epoch [9/10], Loss: 0.0162\n",
      "Epoch [10/10], Loss: 0.0119\n",
      "Finished Training\n"
     ]
    }
   ],
   "source": [
    "# 3. 定义模型\n",
    "class SimpleNN(nn.Module):\n",
    "    def __init__(self):\n",
    "        super(SimpleNN, self).__init__()\n",
    "        self.fc1 = nn.Linear(28*28, 128)  #图片size is 28*28\n",
    "        self.fc2 = nn.Linear(128, 64)\n",
    "        self.fc3 = nn.Linear(64, 10)  # 图片有10个分类\n",
    "\n",
    "    def forward(self, x):\n",
    "        x = x.view(-1, 28*28)  # 将输入平铺成一维\n",
    "        x = torch.relu(self.fc1(x))  #使用relu 激活函数\n",
    "        x = torch.relu(self.fc2(x))  #使用relu 激活函数\n",
    "        x = self.fc3(x)\n",
    "        return x\n",
    "\n",
    "model = SimpleNN()\n",
    "\n",
    "# 4. 定义损失函数和优化器\n",
    "criterion = nn.CrossEntropyLoss()\n",
    "optimizer = optim.SGD(model.parameters(), lr=0.01, momentum=0.9)\n",
    "\n",
    "# 5. 训练模型\n",
    "num_epochs = 10\n",
    "writer = SummaryWriter()  # 创建一个 SummaryWriter 来写 TensorBoard 日志\n",
    "\n",
    "for epoch in range(num_epochs):\n",
    "    model.train()\n",
    "    running_loss = 0.0\n",
    "    for images, labels in train_loader:\n",
    "        optimizer.zero_grad()\n",
    "        outputs = model(images)\n",
    "        \n",
    "        # print(\"debug...\")\n",
    "        # print(outputs,type(outputs))\n",
    "\n",
    "        loss = criterion(outputs, labels)\n",
    "        loss.backward()\n",
    "        optimizer.step()\n",
    "        running_loss += loss.item()\n",
    "    \n",
    "    # print(f'Epoch [{epoch+1}/{num_epochs}], Loss: {running_loss/len(train_loader):.4f}')\n",
    "    average_loss = running_loss / len(train_loader)\n",
    "    print(f'Epoch [{epoch+1}/{num_epochs}], Loss: {average_loss:.4f}')\n",
    "    \n",
    "    #remove comment if you want to show chart in tensorboard\n",
    "    # writer.add_scalar('training_loss', average_loss, epoch)  # 记录 loss\n",
    "\n",
    "print('Finished Training')\n",
    "# writer.close()"
   ]
  },
  {
   "cell_type": "code",
   "execution_count": 13,
   "id": "b7f8ead6-aa16-4f9b-b753-f19e063b78e0",
   "metadata": {},
   "outputs": [
    {
     "name": "stdout",
     "output_type": "stream",
     "text": [
      "Accuracy of the model on the test images: 97.68%\n"
     ]
    }
   ],
   "source": [
    "# 6. 评估模型\n",
    "model.eval()\n",
    "correct = 0\n",
    "total = 0\n",
    "\n",
    "incorrect_images = []\n",
    "incorrect_labels = []\n",
    "incorrect_preds = []\n",
    "\n",
    "\n",
    "with torch.no_grad():\n",
    "    for images, labels in test_loader:\n",
    "        outputs = model(images)\n",
    "        _, predicted = torch.max(outputs.data, 1)\n",
    "        total += labels.size(0)\n",
    "        correct += (predicted == labels).sum().item()\n",
    "\n",
    "        # 记录预测错误的数据\n",
    "        incorrect_mask = (predicted != labels)\n",
    "        incorrect_images.extend(images[incorrect_mask])\n",
    "        incorrect_labels.extend(labels[incorrect_mask])\n",
    "        incorrect_preds.extend(predicted[incorrect_mask])\n",
    "\n",
    "\n",
    "print(f'Accuracy of the model on the test images: {100 * correct / total:.2f}%')\n",
    "\n",
    "\n",
    "# 显示预测错误的图片和对应的标签\n",
    "def imshow(img):\n",
    "    img = img * 0.3081 + 0.1307  # 反标准化\n",
    "    npimg = img.numpy()\n",
    "    plt.imshow(npimg, cmap='gray')\n",
    "    plt.show()\n",
    "\n",
    "# 显示前10张预测错误的图片\n",
    "# num_images_to_show = 10\n",
    "# for i in range(min(num_images_to_show, len(incorrect_images))):\n",
    "#     print(f'True label: {incorrect_labels[i]}, Predicted: {incorrect_preds[i]}')\n",
    "#     imshow(incorrect_images[i][0])\n",
    "\n"
   ]
  },
  {
   "cell_type": "code",
   "execution_count": null,
   "metadata": {},
   "outputs": [],
   "source": [
    "%load_ext tensorboard\n",
    "%tensorboard --logdir ./runs"
   ]
  },
  {
   "cell_type": "code",
   "execution_count": null,
   "id": "a5760a4c-1af4-4727-b996-bcf67ca80b38",
   "metadata": {},
   "outputs": [],
   "source": []
  },
  {
   "cell_type": "code",
   "execution_count": null,
   "id": "b6a72525-d0f8-47c3-a5ef-71c576fcf8bf",
   "metadata": {},
   "outputs": [],
   "source": []
  }
 ],
 "metadata": {
  "kernelspec": {
   "display_name": "Python 3 (ipykernel)",
   "language": "python",
   "name": "python3"
  },
  "language_info": {
   "codemirror_mode": {
    "name": "ipython",
    "version": 3
   },
   "file_extension": ".py",
   "mimetype": "text/x-python",
   "name": "python",
   "nbconvert_exporter": "python",
   "pygments_lexer": "ipython3",
   "version": "3.9.18"
  }
 },
 "nbformat": 4,
 "nbformat_minor": 5
}
